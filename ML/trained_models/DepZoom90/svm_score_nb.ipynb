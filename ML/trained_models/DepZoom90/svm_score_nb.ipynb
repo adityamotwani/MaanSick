{
 "cells": [
  {
   "cell_type": "code",
   "execution_count": 1,
   "metadata": {},
   "outputs": [],
   "source": [
    "import numpy as np\n",
    "from sklearn import svm\n",
    "import pickle\n",
    "\n",
    "from numpy import mean\n",
    "from numpy import std\n",
    "import numpy as np\n",
    "from sklearn.datasets import make_classification\n",
    "from sklearn.model_selection import KFold\n",
    "from sklearn.model_selection import cross_val_score\n",
    "from sklearn.linear_model import LogisticRegression\n",
    "from sklearn import svm"
   ]
  },
  {
   "cell_type": "code",
   "execution_count": 2,
   "metadata": {},
   "outputs": [
    {
     "name": "stdout",
     "output_type": "stream",
     "text": [
      "(42, 125000) (11, 125000)\n",
      "[0 1 1 1 1 0 1 1 0 1 0 1 0 1 1 1 0 1 1 1 1 0 0 0 0 0 0 1 0 0 1 1 1 1 1 1 0\n",
      " 0 0 0 1 0] [0 0 0 1 0 1 1 1 0 0 1]\n"
     ]
    }
   ],
   "source": [
    "x_train = np.load('x_train.npy')\n",
    "y_train = np.load('y_train.npy')\n",
    "\n",
    "x_test = np.load('x_test.npy')\n",
    "y_test = np.load('y_test.npy')\n",
    "\n",
    "print(x_train.shape, x_test.shape)\n",
    "print(y_train, y_test)"
   ]
  },
  {
   "cell_type": "code",
   "execution_count": null,
   "metadata": {},
   "outputs": [],
   "source": [
    "count_1 = 0\n",
    "for i in y_train:\n",
    "    if i == 1:\n",
    "        count_1 +=1\n",
    "\n",
    "count_2 = 0\n",
    "for i in y_test:\n",
    "    if i == 1:\n",
    "        count_2 +=1\n",
    "\n",
    "print(count_1, count_2)"
   ]
  }
 ],
 "metadata": {
  "kernelspec": {
   "display_name": "Python 3.8.0 64-bit",
   "language": "python",
   "name": "python3"
  },
  "language_info": {
   "codemirror_mode": {
    "name": "ipython",
    "version": 3
   },
   "file_extension": ".py",
   "mimetype": "text/x-python",
   "name": "python",
   "nbconvert_exporter": "python",
   "pygments_lexer": "ipython3",
   "version": "3.8.0"
  },
  "orig_nbformat": 4,
  "vscode": {
   "interpreter": {
    "hash": "cd6b2f5882586135a24b5f904060900025e65ffbb98acf8e29c7d4731c574bf2"
   }
  }
 },
 "nbformat": 4,
 "nbformat_minor": 2
}
